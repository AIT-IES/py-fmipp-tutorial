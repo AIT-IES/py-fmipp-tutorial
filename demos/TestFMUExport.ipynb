{
 "cells": [
  {
   "cell_type": "markdown",
   "metadata": {},
   "source": [
    "# Exporting Python scripts as FMU for Co-Simulation\n",
    "\n",
    "The functionality of Python can be made available as FMU for Co-Simulation (version 1.0 or 2.0) with the help of class **FMIAdapterV1** or **FMIAdapterV2**, respectively. These class define two abstract methods that have to be implemented by the user:\n",
    "\n",
    " * Method *init( self, currentCommunicationPoint )* is intended to initialize input/output variables and parameters needed for co-simulation. Optionally, a fixed simulation time step can be specified.\n",
    " * Method *doStep( self, currentCommunicationPoint, communicationStepSize )* is called at every simulation step (as requested by the master algorithm).\n",
    "\n",
    "By deriving a new class from class **FMIAdapterV1** or **FMIAdapterV2** and implementing these two methods, virtually all functionality of Python can be made available via an FMU for Co-Simulation. When using such an FMU, Python is started in the background and synchronized to the master algorithm.\n",
    "\n",
    "## Creating an FMU\n",
    "\n",
    "Import the requried functionality from the FMI++ library."
   ]
  },
  {
   "cell_type": "code",
   "execution_count": 1,
   "metadata": {},
   "outputs": [],
   "source": [
    "from fmipp.export.createFMU import createFMU"
   ]
  },
  {
   "cell_type": "markdown",
   "metadata": {},
   "source": [
    "File *FMUExportTest.py* defines class **FMUExportTest**, which derives from class **FMIAdapterV2**. Import the class, in order to export it."
   ]
  },
  {
   "cell_type": "code",
   "execution_count": 2,
   "metadata": {},
   "outputs": [],
   "source": [
    "from TestClassFMUExport import FMUExportTestClass"
   ]
  },
  {
   "cell_type": "markdown",
   "metadata": {},
   "source": [
    "Specify the model name of the FMU."
   ]
  },
  {
   "cell_type": "code",
   "execution_count": 3,
   "metadata": {},
   "outputs": [],
   "source": [
    "model_name = 'FMUExportTestCS'"
   ]
  },
  {
   "cell_type": "markdown",
   "metadata": {},
   "source": [
    "Define start values for the variables defined in class **FMUExportTest** (see method *init*)."
   ]
  },
  {
   "cell_type": "code",
   "execution_count": 4,
   "metadata": {},
   "outputs": [],
   "source": [
    "start_values = {\n",
    "   'pr_y' : 2.2, 'pr_x' : 1.1,\n",
    "   'ir_y' : 2., 'ir_x' : 1.,\n",
    "   'pi_y' : 3, 'pi_x' : 6,\n",
    "   'ii_y' : 4, 'ii_x' : 5,\n",
    "   'pb_y' : True, 'pb_x' : True,\n",
    "   'ib_y' : False, 'ib_x' : True,\n",
    "   'ps_y' : 'abc', 'ps_x' : 'def',\n",
    "   'is_y' : 'ghi', 'is_x' : 'jkl'\n",
    "}"
   ]
  },
  {
   "cell_type": "markdown",
   "metadata": {},
   "source": [
    "Declare additional files, that will be added to the *resources* directory of the FMU."
   ]
  },
  {
   "cell_type": "code",
   "execution_count": 5,
   "metadata": {},
   "outputs": [],
   "source": [
    "import os.path\n",
    "optional_files = [ os.path.join( 'data', 'extra.dat' ) ]"
   ]
  },
  {
   "cell_type": "markdown",
   "metadata": {},
   "source": [
    "Use function *createFMU* to create the FMU."
   ]
  },
  {
   "cell_type": "code",
   "execution_count": 6,
   "metadata": {},
   "outputs": [],
   "source": [
    "createFMU(\n",
    "   FMUExportTestClass, model_name, fmi_version = '2',\n",
    "   verbose = False, start_values = start_values, optional_files = optional_files )"
   ]
  },
  {
   "cell_type": "markdown",
   "metadata": {},
   "source": [
    "Check that the new FMU is avilable."
   ]
  },
  {
   "cell_type": "code",
   "execution_count": 7,
   "metadata": {},
   "outputs": [
    {
     "name": "stdout",
     "output_type": "stream",
     "text": [
      "-rw-r--r-- 1 WidlE Administratoren 129K Mar  4 14:50 FMUExportTestCS.fmu\n"
     ]
    }
   ],
   "source": [
    "!ls -lah {model_name}.fmu"
   ]
  },
  {
   "cell_type": "markdown",
   "metadata": {},
   "source": [
    "## Testing the FMU\n",
    "\n",
    "Specify the absolute path to the newly created FMU. In this example, the FMU was created in the same directory as this notebook."
   ]
  },
  {
   "cell_type": "code",
   "execution_count": 9,
   "metadata": {},
   "outputs": [
    {
     "name": "stdout",
     "output_type": "stream",
     "text": [
      "The path to the FMU is: C:\\Users\\widle\\Desktop\\Modelica 2019\\tutorial\\demo\\FMUExportTestCS.fmu\n"
     ]
    }
   ],
   "source": [
    "import os\n",
    "work_dir = os.getcwd() # define working directory\n",
    "path_to_fmu = os.path.join( work_dir, model_name + '.fmu' ) # path to FMU\n",
    "\n",
    "print( 'The path to the FMU is: {}'.format( path_to_fmu ) )"
   ]
  },
  {
   "cell_type": "markdown",
   "metadata": {},
   "source": [
    "Extract the FMU to the current work directory. The return value is the URI to the folder containing the unzipped FMU."
   ]
  },
  {
   "cell_type": "code",
   "execution_count": 10,
   "metadata": {},
   "outputs": [
    {
     "name": "stdout",
     "output_type": "stream",
     "text": [
      "The URI of the extracted FMU is: file:///C:/Users/widle/Desktop/Modelica%202019/tutorial/demo/FMUExportTestCS\n"
     ]
    }
   ],
   "source": [
    "import fmipp\n",
    "uri_to_extracted_fmu = fmipp.extractFMU( path_to_fmu, work_dir )\n",
    "\n",
    "print( 'The URI of the extracted FMU is: {}'.format( uri_to_extracted_fmu ) )"
   ]
  },
  {
   "cell_type": "markdown",
   "metadata": {},
   "source": [
    "Load the FMU."
   ]
  },
  {
   "cell_type": "code",
   "execution_count": 11,
   "metadata": {},
   "outputs": [],
   "source": [
    "logging_on = False\n",
    "time_diff_resolution = 1e-9\n",
    "\n",
    "fmu = fmipp.FMUCoSimulationV2(\n",
    "   uri_to_extracted_fmu, model_name,\n",
    "   logging_on, time_diff_resolution\n",
    "   )"
   ]
  },
  {
   "cell_type": "markdown",
   "metadata": {},
   "source": [
    "Instantiate and initialize the FMU, then call *doStep*, *getRealValue*, etc."
   ]
  },
  {
   "cell_type": "code",
   "execution_count": 12,
   "metadata": {},
   "outputs": [],
   "source": [
    "start_time = 0.\n",
    "stop_time = 10.\n",
    "\n",
    "instance_name = \"test1\"\n",
    "visible = False\n",
    "interactive = False\n",
    "status = fmu.instantiate( instance_name, start_time, visible, interactive )\n",
    "assert status == fmipp.fmiOK\n",
    "\n",
    "stop_time_defined = True\n",
    "status = fmu.initialize( start_time, stop_time_defined, stop_time )\n",
    "assert status == fmipp.fmiOK\n",
    "\n",
    "time = 0.\n",
    "step_size = 1.\n",
    "\n",
    "new_step = True\n",
    "status = fmu.doStep( time, step_size, new_step )\n",
    "assert status == fmipp.fmiOK"
   ]
  },
  {
   "cell_type": "markdown",
   "metadata": {},
   "source": [
    "Check if the outputs are as expected."
   ]
  },
  {
   "cell_type": "code",
   "execution_count": 13,
   "metadata": {},
   "outputs": [
    {
     "name": "stdout",
     "output_type": "stream",
     "text": [
      "Test for real output variable \"or_x\" successfull!\n",
      "Test for real output variable \"or_y\" successfull!\n",
      "Test for integer output variable \"oi_x\" successfull!\n",
      "Test for integer output variable \"oi_y\" successfull!\n",
      "Test for boolean output variable \"ob_x\" successfull!\n",
      "Test for boolean output variable \"ob_y\" successfull!\n",
      "Test for string output variable \"os_x\" successfull!\n",
      "Test for string output variable \"os_y\" successfull!\n"
     ]
    }
   ],
   "source": [
    "or_x = fmu.getRealValue( 'or_x' )\n",
    "status = fmu.getLastStatus()\n",
    "assert 1.1 == or_x\n",
    "assert status == fmipp.fmiOK\n",
    "print( 'Test for real output variable \"or_x\" successfull!' )\n",
    "\n",
    "or_y = fmu.getRealValue( 'or_y' )\n",
    "status = fmu.getLastStatus()\n",
    "assert 4.4 == or_y\n",
    "assert status == fmipp.fmiOK\n",
    "print( 'Test for real output variable \"or_y\" successfull!' )\n",
    "\n",
    "oi_x = fmu.getIntegerValue( 'oi_x' )\n",
    "status = fmu.getLastStatus()\n",
    "assert 30 == oi_x\n",
    "assert status == fmipp.fmiOK\n",
    "print( 'Test for integer output variable \"oi_x\" successfull!' )\n",
    "\n",
    "oi_y = fmu.getIntegerValue( 'oi_y' )\n",
    "status = fmu.getLastStatus()\n",
    "assert 12 == oi_y\n",
    "assert status == fmipp.fmiOK\n",
    "print( 'Test for integer output variable \"oi_y\" successfull!' )\n",
    "\n",
    "ob_x = fmu.getBooleanValue( 'ob_x' )\n",
    "status = fmu.getLastStatus()\n",
    "assert True == ob_x\n",
    "assert status == fmipp.fmiOK\n",
    "print( 'Test for boolean output variable \"ob_x\" successfull!' )\n",
    "\n",
    "ob_y = fmu.getBooleanValue( 'ob_y' )\n",
    "status = fmu.getLastStatus()\n",
    "assert False == ob_y\n",
    "assert status == fmipp.fmiOK\n",
    "print( 'Test for boolean output variable \"ob_y\" successfull!' )\n",
    "\n",
    "os_x = fmu.getStringValue( 'os_x' )\n",
    "status = fmu.getLastStatus()\n",
    "assert 'jkldef' == os_x\n",
    "assert status == fmipp.fmiOK\n",
    "print( 'Test for string output variable \"os_x\" successfull!' )\n",
    "\n",
    "os_y = fmu.getStringValue( 'os_y' )\n",
    "status = fmu.getLastStatus()\n",
    "assert 'ghiabc' == os_y\n",
    "assert status == fmipp.fmiOK\n",
    "print( 'Test for string output variable \"os_y\" successfull!' )"
   ]
  },
  {
   "cell_type": "markdown",
   "metadata": {},
   "source": [
    "Done."
   ]
  }
 ],
 "metadata": {
  "kernelspec": {
   "display_name": "Python 3",
   "language": "python",
   "name": "python3"
  },
  "language_info": {
   "codemirror_mode": {
    "name": "ipython",
    "version": 3
   },
   "file_extension": ".py",
   "mimetype": "text/x-python",
   "name": "python",
   "nbconvert_exporter": "python",
   "pygments_lexer": "ipython3",
   "version": "3.6.4"
  }
 },
 "nbformat": 4,
 "nbformat_minor": 2
}
