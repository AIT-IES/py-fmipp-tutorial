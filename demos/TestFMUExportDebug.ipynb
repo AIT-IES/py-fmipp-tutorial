{
 "cells": [
  {
   "cell_type": "markdown",
   "metadata": {},
   "source": [
    "# Debugging code before exporting it as FMU\n",
    "\n",
    "File *FMUExportTest.py* defines class **FMUExportTest**, which derives from class **FMIAdapterV2**. Import the class, in order to debug it."
   ]
  },
  {
   "cell_type": "code",
   "execution_count": 1,
   "metadata": {},
   "outputs": [],
   "source": [
    "from TestClassFMUExport import FMUExportTestClass"
   ]
  },
  {
   "cell_type": "markdown",
   "metadata": {},
   "source": [
    "Create an instance of class **FMUExportTest** to debug its functionality."
   ]
  },
  {
   "cell_type": "code",
   "execution_count": 2,
   "metadata": {},
   "outputs": [],
   "source": [
    "test = FMUExportTestClass()"
   ]
  },
  {
   "cell_type": "markdown",
   "metadata": {},
   "source": [
    "Initialize the new instance (at time *t=0*). When executing this function, a runtime warning will be displayed, saying that the \"FMI++ export interface is not active\". When debugging a class, this warning can be ignored."
   ]
  },
  {
   "cell_type": "code",
   "execution_count": 3,
   "metadata": {},
   "outputs": [
    {
     "name": "stderr",
     "output_type": "stream",
     "text": [
      "c:\\users\\widle\\envs\\modelica2019\\lib\\site-packages\\fmipp\\export\\FMIAdapterBase.py:533: RuntimeWarning: FMI++ export interface is not active.\n",
      "  warnings.warn( 'FMI++ export interface is not active.', RuntimeWarning )\n"
     ]
    }
   ],
   "source": [
    "test.init( 0. )"
   ]
  },
  {
   "cell_type": "markdown",
   "metadata": {},
   "source": [
    "Use functions *debugSetX* to set values for parameters and input variables."
   ]
  },
  {
   "cell_type": "code",
   "execution_count": 4,
   "metadata": {},
   "outputs": [],
   "source": [
    "test.debugSetRealParameterValues( { 'pr_y' : 2.2, 'pr_x' : 1.1 } )\n",
    "test.debugSetRealInputValues( { 'ir_y' : 2., 'ir_x' : 1. } )\n",
    "\n",
    "test.debugSetIntegerParameterValues( { 'pi_y' : 3, 'pi_x' : 6 } )\n",
    "test.debugSetIntegerInputValues( { 'ii_y' : 4, 'ii_x' : 5 } )\n",
    "\n",
    "test.debugSetBooleanParameterValues( { 'pb_y' : True, 'pb_x' : True } )\n",
    "test.debugSetBooleanInputValues( { 'ib_y' : False, 'ib_x' : True } )\n",
    "\n",
    "test.debugSetStringParameterValues( { 'ps_y' : 'abc', 'ps_x' : 'def' } )\n",
    "test.debugSetStringInputValues( { 'is_y' : 'ghi', 'is_x' : 'jkl' } )"
   ]
  },
  {
   "cell_type": "markdown",
   "metadata": {},
   "source": [
    "Call the *doStep* function. Again, runtime warnings regarding the FMI++ export interface can be ignored."
   ]
  },
  {
   "cell_type": "code",
   "execution_count": 5,
   "metadata": {},
   "outputs": [
    {
     "name": "stdout",
     "output_type": "stream",
     "text": [
      "real param: name = pr_x, value = 1.1\n",
      "real param: name = pr_y, value = 2.2\n",
      "real input: name = ir_x, value = 1.0\n",
      "real input: name = ir_y, value = 2.0\n",
      "integer param: name = pi_x, value = 6\n",
      "integer param: name = pi_y, value = 3\n",
      "integer input: name = ii_x, value = 5\n",
      "integer input: name = ii_y, value = 4\n",
      "boolean param: name = pb_x, value = True\n",
      "boolean param: name = pb_y, value = True\n",
      "boolean input: name = ib_x, value = True\n",
      "boolean input: name = ib_y, value = False\n",
      "string param: name = ps_x, value = def\n",
      "string param: name = ps_y, value = abc\n",
      "string input: name = is_x, value = jkl\n",
      "string input: name = is_y, value = ghi\n"
     ]
    },
    {
     "name": "stderr",
     "output_type": "stream",
     "text": [
      "c:\\users\\widle\\envs\\modelica2019\\lib\\site-packages\\fmipp\\export\\FMIAdapterBase.py:553: RuntimeWarning: FMI++ export interface is not active.\n",
      "  warnings.warn( 'FMI++ export interface is not active.', RuntimeWarning )\n",
      "c:\\users\\widle\\envs\\modelica2019\\lib\\site-packages\\fmipp\\export\\FMIAdapterBase.py:569: RuntimeWarning: FMI++ export interface is not active.\n",
      "  warnings.warn( 'FMI++ export interface is not active.', RuntimeWarning )\n"
     ]
    }
   ],
   "source": [
    "test.doStep(0., 1.)"
   ]
  },
  {
   "cell_type": "markdown",
   "metadata": {},
   "source": [
    "After calling the *doStep* function, use functions *debugGetX* to retrieve and check the values of outputs."
   ]
  },
  {
   "cell_type": "code",
   "execution_count": 6,
   "metadata": {},
   "outputs": [],
   "source": [
    "out_real = test.debugGetRealOutputValues()\n",
    "assert 1.1 == out_real[ 'or_x' ]\n",
    "assert 4.4 == out_real[ 'or_y' ]\n",
    "\n",
    "out_integer = test.debugGetIntegerOutputValues()\n",
    "assert 30 == out_integer[ 'oi_x' ]\n",
    "assert 12 == out_integer[ 'oi_y' ]\n",
    "\n",
    "out_boolean = test.debugGetBooleanOutputValues()\n",
    "assert True == out_boolean[ 'ob_x' ]\n",
    "assert False == out_boolean[ 'ob_y' ]\n",
    "\n",
    "out_strings = test.debugGetStringOutputValues()\n",
    "assert 'jkldef' == out_strings[ 'os_x' ]\n",
    "assert 'ghiabc' == out_strings[ 'os_y' ]"
   ]
  },
  {
   "cell_type": "markdown",
   "metadata": {},
   "source": [
    "Done."
   ]
  }
 ],
 "metadata": {
  "kernelspec": {
   "display_name": "Python 3",
   "language": "python",
   "name": "python3"
  },
  "language_info": {
   "codemirror_mode": {
    "name": "ipython",
    "version": 3
   },
   "file_extension": ".py",
   "mimetype": "text/x-python",
   "name": "python",
   "nbconvert_exporter": "python",
   "pygments_lexer": "ipython3",
   "version": "3.6.4"
  }
 },
 "nbformat": 4,
 "nbformat_minor": 2
}
